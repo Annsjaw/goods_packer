{
 "cells": [
  {
   "cell_type": "code",
   "execution_count": 1,
   "id": "c4c345e3",
   "metadata": {},
   "outputs": [],
   "source": [
    "import pandas as pd\n",
    "import seaborn as sns\n",
    "import matplotlib.pyplot as plt\n",
    "import numpy as np\n",
    "\n",
    "# отключим некритические предупреждения в коде\n",
    "import warnings\n",
    "warnings.filterwarnings(\"ignore\")\n",
    "\n",
    "# сбросим ограничение на количество выводимых столбцов, что бы просмотреть все столбцы\n",
    "pd.set_option('display.max_columns', None)\n",
    "pd.set_option('display.max_columns', None)\n",
    "#зададим константу \n",
    "RANDOM_STATE = 12345"
   ]
  },
  {
   "cell_type": "code",
   "execution_count": 2,
   "id": "8536e3f0",
   "metadata": {},
   "outputs": [
    {
     "name": "stdout",
     "output_type": "stream",
     "text": [
      "<class 'pandas.core.frame.DataFrame'>\n",
      "Int64Index: 325623 entries, 0 to 325622\n",
      "Data columns (total 14 columns):\n",
      " #   Column                  Non-Null Count   Dtype  \n",
      "---  ------                  --------------   -----  \n",
      " 0   whs                     325623 non-null  int64  \n",
      " 1   orderkey                325623 non-null  object \n",
      " 2   selected_cartontype     325623 non-null  object \n",
      " 3   box_num                 325623 non-null  int64  \n",
      " 4   recommended_cartontype  325623 non-null  object \n",
      " 5   selected_carton         325623 non-null  object \n",
      " 6   sel_calc_cube           325623 non-null  int64  \n",
      " 7   recommended_carton      325623 non-null  object \n",
      " 8   pack_volume             325623 non-null  int64  \n",
      " 9   rec_calc_cube           325623 non-null  int64  \n",
      " 10  goods_wght              325623 non-null  float64\n",
      " 11  sku                     325623 non-null  object \n",
      " 12  who                     325623 non-null  object \n",
      " 13  trackingid              325623 non-null  object \n",
      "dtypes: float64(1), int64(5), object(8)\n",
      "memory usage: 37.3+ MB\n"
     ]
    }
   ],
   "source": [
    "data = pd.read_csv('data.csv', index_col=0)\n",
    "data.info()"
   ]
  },
  {
   "cell_type": "code",
   "execution_count": 3,
   "id": "c0af9e42",
   "metadata": {},
   "outputs": [
    {
     "name": "stdout",
     "output_type": "stream",
     "text": [
      "<class 'pandas.core.frame.DataFrame'>\n",
      "RangeIndex: 86516 entries, 0 to 86515\n",
      "Data columns (total 2 columns):\n",
      " #   Column  Non-Null Count  Dtype \n",
      "---  ------  --------------  ----- \n",
      " 0   index   86516 non-null  int64 \n",
      " 1   sku     86516 non-null  object\n",
      "dtypes: int64(1), object(1)\n",
      "memory usage: 1.3+ MB\n"
     ]
    }
   ],
   "source": [
    "sku_data = data['sku']\n",
    "sku_data = sku_data.drop_duplicates().reset_index(drop=True).reset_index()\n",
    "sku_data.info()"
   ]
  },
  {
   "cell_type": "code",
   "execution_count": 4,
   "id": "cdd5368f",
   "metadata": {},
   "outputs": [
    {
     "name": "stdout",
     "output_type": "stream",
     "text": [
      "<class 'pandas.core.frame.DataFrame'>\n",
      "Int64Index: 21053152 entries, 0 to 21053151\n",
      "Data columns (total 2 columns):\n",
      " #   Column     Dtype \n",
      "---  ------     ----- \n",
      " 0   sku        object\n",
      " 1   cargotype  int64 \n",
      "dtypes: int64(1), object(1)\n",
      "memory usage: 481.9+ MB\n",
      "Wall time: 8.86 s\n"
     ]
    }
   ],
   "source": [
    "%%time\n",
    "sku_cargotypes = pd.read_csv('sku_cargotypes.csv', index_col = 0)\n",
    "sku_cargotypes.info()"
   ]
  },
  {
   "cell_type": "code",
   "execution_count": 5,
   "id": "872fdcb1",
   "metadata": {},
   "outputs": [
    {
     "data": {
      "text/html": [
       "<div>\n",
       "<style scoped>\n",
       "    .dataframe tbody tr th:only-of-type {\n",
       "        vertical-align: middle;\n",
       "    }\n",
       "\n",
       "    .dataframe tbody tr th {\n",
       "        vertical-align: top;\n",
       "    }\n",
       "\n",
       "    .dataframe thead th {\n",
       "        text-align: right;\n",
       "    }\n",
       "</style>\n",
       "<table border=\"1\" class=\"dataframe\">\n",
       "  <thead>\n",
       "    <tr style=\"text-align: right;\">\n",
       "      <th></th>\n",
       "      <th>sku</th>\n",
       "      <th>cargotype</th>\n",
       "    </tr>\n",
       "  </thead>\n",
       "  <tbody>\n",
       "    <tr>\n",
       "      <th>0</th>\n",
       "      <td>4862bf0e760a593b13f3f2fcf822e533</td>\n",
       "      <td>290</td>\n",
       "    </tr>\n",
       "    <tr>\n",
       "      <th>1</th>\n",
       "      <td>4862bf0e760a593b13f3f2fcf822e533</td>\n",
       "      <td>901</td>\n",
       "    </tr>\n",
       "    <tr>\n",
       "      <th>2</th>\n",
       "      <td>50d3c4fc66ad423b7feaadff2d682ee0</td>\n",
       "      <td>290</td>\n",
       "    </tr>\n",
       "    <tr>\n",
       "      <th>3</th>\n",
       "      <td>50d3c4fc66ad423b7feaadff2d682ee0</td>\n",
       "      <td>901</td>\n",
       "    </tr>\n",
       "    <tr>\n",
       "      <th>4</th>\n",
       "      <td>24ce9dba9f301ada55f60e25ee1498d2</td>\n",
       "      <td>290</td>\n",
       "    </tr>\n",
       "    <tr>\n",
       "      <th>5</th>\n",
       "      <td>24ce9dba9f301ada55f60e25ee1498d2</td>\n",
       "      <td>441</td>\n",
       "    </tr>\n",
       "    <tr>\n",
       "      <th>6</th>\n",
       "      <td>24ce9dba9f301ada55f60e25ee1498d2</td>\n",
       "      <td>490</td>\n",
       "    </tr>\n",
       "    <tr>\n",
       "      <th>7</th>\n",
       "      <td>54a4f25859c817c131b7ec620d1ff278</td>\n",
       "      <td>290</td>\n",
       "    </tr>\n",
       "    <tr>\n",
       "      <th>8</th>\n",
       "      <td>54a4f25859c817c131b7ec620d1ff278</td>\n",
       "      <td>441</td>\n",
       "    </tr>\n",
       "    <tr>\n",
       "      <th>9</th>\n",
       "      <td>54a4f25859c817c131b7ec620d1ff278</td>\n",
       "      <td>490</td>\n",
       "    </tr>\n",
       "  </tbody>\n",
       "</table>\n",
       "</div>"
      ],
      "text/plain": [
       "                                sku  cargotype\n",
       "0  4862bf0e760a593b13f3f2fcf822e533        290\n",
       "1  4862bf0e760a593b13f3f2fcf822e533        901\n",
       "2  50d3c4fc66ad423b7feaadff2d682ee0        290\n",
       "3  50d3c4fc66ad423b7feaadff2d682ee0        901\n",
       "4  24ce9dba9f301ada55f60e25ee1498d2        290\n",
       "5  24ce9dba9f301ada55f60e25ee1498d2        441\n",
       "6  24ce9dba9f301ada55f60e25ee1498d2        490\n",
       "7  54a4f25859c817c131b7ec620d1ff278        290\n",
       "8  54a4f25859c817c131b7ec620d1ff278        441\n",
       "9  54a4f25859c817c131b7ec620d1ff278        490"
      ]
     },
     "execution_count": 5,
     "metadata": {},
     "output_type": "execute_result"
    }
   ],
   "source": [
    "sku_cargotypes.head(10)"
   ]
  },
  {
   "cell_type": "code",
   "execution_count": 6,
   "id": "bd0b0f79",
   "metadata": {},
   "outputs": [
    {
     "name": "stdout",
     "output_type": "stream",
     "text": [
      "Wall time: 3.1 ms\n"
     ]
    },
    {
     "data": {
      "text/html": [
       "<div>\n",
       "<style scoped>\n",
       "    .dataframe tbody tr th:only-of-type {\n",
       "        vertical-align: middle;\n",
       "    }\n",
       "\n",
       "    .dataframe tbody tr th {\n",
       "        vertical-align: top;\n",
       "    }\n",
       "\n",
       "    .dataframe thead th {\n",
       "        text-align: right;\n",
       "    }\n",
       "</style>\n",
       "<table border=\"1\" class=\"dataframe\">\n",
       "  <thead>\n",
       "    <tr style=\"text-align: right;\">\n",
       "      <th></th>\n",
       "      <th>cargotype</th>\n",
       "      <th>description</th>\n",
       "    </tr>\n",
       "  </thead>\n",
       "  <tbody>\n",
       "    <tr>\n",
       "      <th>0</th>\n",
       "      <td>770.0</td>\n",
       "      <td>консервы</td>\n",
       "    </tr>\n",
       "    <tr>\n",
       "      <th>1</th>\n",
       "      <td>301.0</td>\n",
       "      <td>тяжеловесный и крупногабаритный 20кг</td>\n",
       "    </tr>\n",
       "    <tr>\n",
       "      <th>2</th>\n",
       "      <td>980.0</td>\n",
       "      <td>Требует обязательной маркировки</td>\n",
       "    </tr>\n",
       "    <tr>\n",
       "      <th>3</th>\n",
       "      <td>985.0</td>\n",
       "      <td>Не требует наличия маркировки, но требует выво...</td>\n",
       "    </tr>\n",
       "    <tr>\n",
       "      <th>4</th>\n",
       "      <td>990.0</td>\n",
       "      <td>Потребует обязательной маркировки в ближайшем ...</td>\n",
       "    </tr>\n",
       "  </tbody>\n",
       "</table>\n",
       "</div>"
      ],
      "text/plain": [
       "   cargotype                                        description\n",
       "0      770.0                                           консервы\n",
       "1      301.0               тяжеловесный и крупногабаритный 20кг\n",
       "2      980.0                    Требует обязательной маркировки\n",
       "3      985.0  Не требует наличия маркировки, но требует выво...\n",
       "4      990.0  Потребует обязательной маркировки в ближайшем ..."
      ]
     },
     "execution_count": 6,
     "metadata": {},
     "output_type": "execute_result"
    }
   ],
   "source": [
    "%%time\n",
    "cargotype_info = pd.read_csv('cargotype_info.csv', index_col = 0)\n",
    "cargotype_info.head()"
   ]
  },
  {
   "cell_type": "code",
   "execution_count": 7,
   "id": "d412e0c0",
   "metadata": {},
   "outputs": [
    {
     "data": {
      "text/html": [
       "<div>\n",
       "<style scoped>\n",
       "    .dataframe tbody tr th:only-of-type {\n",
       "        vertical-align: middle;\n",
       "    }\n",
       "\n",
       "    .dataframe tbody tr th {\n",
       "        vertical-align: top;\n",
       "    }\n",
       "\n",
       "    .dataframe thead th {\n",
       "        text-align: right;\n",
       "    }\n",
       "</style>\n",
       "<table border=\"1\" class=\"dataframe\">\n",
       "  <thead>\n",
       "    <tr style=\"text-align: right;\">\n",
       "      <th></th>\n",
       "      <th>index</th>\n",
       "      <th>sku</th>\n",
       "      <th>cargotype</th>\n",
       "    </tr>\n",
       "  </thead>\n",
       "  <tbody>\n",
       "    <tr>\n",
       "      <th>0</th>\n",
       "      <td>0</td>\n",
       "      <td>af49bf330e2cf16e44f0be1bdfe337bd</td>\n",
       "      <td>290.0</td>\n",
       "    </tr>\n",
       "    <tr>\n",
       "      <th>1</th>\n",
       "      <td>0</td>\n",
       "      <td>af49bf330e2cf16e44f0be1bdfe337bd</td>\n",
       "      <td>600.0</td>\n",
       "    </tr>\n",
       "    <tr>\n",
       "      <th>2</th>\n",
       "      <td>0</td>\n",
       "      <td>af49bf330e2cf16e44f0be1bdfe337bd</td>\n",
       "      <td>610.0</td>\n",
       "    </tr>\n",
       "    <tr>\n",
       "      <th>3</th>\n",
       "      <td>0</td>\n",
       "      <td>af49bf330e2cf16e44f0be1bdfe337bd</td>\n",
       "      <td>950.0</td>\n",
       "    </tr>\n",
       "    <tr>\n",
       "      <th>4</th>\n",
       "      <td>0</td>\n",
       "      <td>af49bf330e2cf16e44f0be1bdfe337bd</td>\n",
       "      <td>970.0</td>\n",
       "    </tr>\n",
       "    <tr>\n",
       "      <th>5</th>\n",
       "      <td>0</td>\n",
       "      <td>af49bf330e2cf16e44f0be1bdfe337bd</td>\n",
       "      <td>980.0</td>\n",
       "    </tr>\n",
       "    <tr>\n",
       "      <th>6</th>\n",
       "      <td>1</td>\n",
       "      <td>6287a74b664fd8ad4ed5c541b399a82b</td>\n",
       "      <td>200.0</td>\n",
       "    </tr>\n",
       "    <tr>\n",
       "      <th>7</th>\n",
       "      <td>1</td>\n",
       "      <td>6287a74b664fd8ad4ed5c541b399a82b</td>\n",
       "      <td>291.0</td>\n",
       "    </tr>\n",
       "    <tr>\n",
       "      <th>8</th>\n",
       "      <td>1</td>\n",
       "      <td>6287a74b664fd8ad4ed5c541b399a82b</td>\n",
       "      <td>360.0</td>\n",
       "    </tr>\n",
       "    <tr>\n",
       "      <th>9</th>\n",
       "      <td>2</td>\n",
       "      <td>ef468fa349bb8f058aa5dcd76bda60b2</td>\n",
       "      <td>200.0</td>\n",
       "    </tr>\n",
       "    <tr>\n",
       "      <th>10</th>\n",
       "      <td>2</td>\n",
       "      <td>ef468fa349bb8f058aa5dcd76bda60b2</td>\n",
       "      <td>290.0</td>\n",
       "    </tr>\n",
       "    <tr>\n",
       "      <th>11</th>\n",
       "      <td>2</td>\n",
       "      <td>ef468fa349bb8f058aa5dcd76bda60b2</td>\n",
       "      <td>340.0</td>\n",
       "    </tr>\n",
       "    <tr>\n",
       "      <th>12</th>\n",
       "      <td>3</td>\n",
       "      <td>d714bc5c946ec01d9b09714524805e5c</td>\n",
       "      <td>290.0</td>\n",
       "    </tr>\n",
       "    <tr>\n",
       "      <th>13</th>\n",
       "      <td>3</td>\n",
       "      <td>d714bc5c946ec01d9b09714524805e5c</td>\n",
       "      <td>340.0</td>\n",
       "    </tr>\n",
       "    <tr>\n",
       "      <th>14</th>\n",
       "      <td>4</td>\n",
       "      <td>eb0e661f3ed57ef7ca16418bf50e363e</td>\n",
       "      <td>200.0</td>\n",
       "    </tr>\n",
       "    <tr>\n",
       "      <th>15</th>\n",
       "      <td>4</td>\n",
       "      <td>eb0e661f3ed57ef7ca16418bf50e363e</td>\n",
       "      <td>290.0</td>\n",
       "    </tr>\n",
       "    <tr>\n",
       "      <th>16</th>\n",
       "      <td>4</td>\n",
       "      <td>eb0e661f3ed57ef7ca16418bf50e363e</td>\n",
       "      <td>360.0</td>\n",
       "    </tr>\n",
       "    <tr>\n",
       "      <th>17</th>\n",
       "      <td>5</td>\n",
       "      <td>0588e43ea7ad1ef603059269db6467eb</td>\n",
       "      <td>291.0</td>\n",
       "    </tr>\n",
       "    <tr>\n",
       "      <th>18</th>\n",
       "      <td>5</td>\n",
       "      <td>0588e43ea7ad1ef603059269db6467eb</td>\n",
       "      <td>320.0</td>\n",
       "    </tr>\n",
       "    <tr>\n",
       "      <th>19</th>\n",
       "      <td>5</td>\n",
       "      <td>0588e43ea7ad1ef603059269db6467eb</td>\n",
       "      <td>340.0</td>\n",
       "    </tr>\n",
       "  </tbody>\n",
       "</table>\n",
       "</div>"
      ],
      "text/plain": [
       "    index                               sku  cargotype\n",
       "0       0  af49bf330e2cf16e44f0be1bdfe337bd      290.0\n",
       "1       0  af49bf330e2cf16e44f0be1bdfe337bd      600.0\n",
       "2       0  af49bf330e2cf16e44f0be1bdfe337bd      610.0\n",
       "3       0  af49bf330e2cf16e44f0be1bdfe337bd      950.0\n",
       "4       0  af49bf330e2cf16e44f0be1bdfe337bd      970.0\n",
       "5       0  af49bf330e2cf16e44f0be1bdfe337bd      980.0\n",
       "6       1  6287a74b664fd8ad4ed5c541b399a82b      200.0\n",
       "7       1  6287a74b664fd8ad4ed5c541b399a82b      291.0\n",
       "8       1  6287a74b664fd8ad4ed5c541b399a82b      360.0\n",
       "9       2  ef468fa349bb8f058aa5dcd76bda60b2      200.0\n",
       "10      2  ef468fa349bb8f058aa5dcd76bda60b2      290.0\n",
       "11      2  ef468fa349bb8f058aa5dcd76bda60b2      340.0\n",
       "12      3  d714bc5c946ec01d9b09714524805e5c      290.0\n",
       "13      3  d714bc5c946ec01d9b09714524805e5c      340.0\n",
       "14      4  eb0e661f3ed57ef7ca16418bf50e363e      200.0\n",
       "15      4  eb0e661f3ed57ef7ca16418bf50e363e      290.0\n",
       "16      4  eb0e661f3ed57ef7ca16418bf50e363e      360.0\n",
       "17      5  0588e43ea7ad1ef603059269db6467eb      291.0\n",
       "18      5  0588e43ea7ad1ef603059269db6467eb      320.0\n",
       "19      5  0588e43ea7ad1ef603059269db6467eb      340.0"
      ]
     },
     "execution_count": 7,
     "metadata": {},
     "output_type": "execute_result"
    }
   ],
   "source": [
    "sku_and_cargotype = sku_data.merge(sku_cargotypes, on='sku', how='left')\n",
    "sku_and_cargotype.head(20)"
   ]
  },
  {
   "cell_type": "code",
   "execution_count": 8,
   "id": "2aa323be",
   "metadata": {},
   "outputs": [
    {
     "name": "stdout",
     "output_type": "stream",
     "text": [
      "<class 'pandas.core.frame.DataFrame'>\n",
      "Int64Index: 338975 entries, 0 to 338974\n",
      "Data columns (total 3 columns):\n",
      " #   Column     Non-Null Count   Dtype  \n",
      "---  ------     --------------   -----  \n",
      " 0   index      338975 non-null  int64  \n",
      " 1   sku        338975 non-null  object \n",
      " 2   cargotype  333401 non-null  float64\n",
      "dtypes: float64(1), int64(1), object(1)\n",
      "memory usage: 10.3+ MB\n"
     ]
    }
   ],
   "source": [
    "sku_and_cargotype.info()"
   ]
  },
  {
   "cell_type": "code",
   "execution_count": 9,
   "id": "9c07e0b6",
   "metadata": {},
   "outputs": [],
   "source": [
    "sku_and_cargotype = sku_and_cargotype.merge(cargotype_info, on='cargotype', how='inner')"
   ]
  },
  {
   "cell_type": "code",
   "execution_count": 10,
   "id": "a4520241",
   "metadata": {},
   "outputs": [
    {
     "name": "stdout",
     "output_type": "stream",
     "text": [
      "<class 'pandas.core.frame.DataFrame'>\n",
      "Int64Index: 343238 entries, 0 to 343237\n",
      "Data columns (total 4 columns):\n",
      " #   Column       Non-Null Count   Dtype  \n",
      "---  ------       --------------   -----  \n",
      " 0   index        343238 non-null  int64  \n",
      " 1   sku          343238 non-null  object \n",
      " 2   cargotype    332090 non-null  float64\n",
      " 3   description  343238 non-null  object \n",
      "dtypes: float64(1), int64(1), object(2)\n",
      "memory usage: 13.1+ MB\n"
     ]
    }
   ],
   "source": [
    "sku_and_cargotype.info()"
   ]
  },
  {
   "cell_type": "code",
   "execution_count": 11,
   "id": "e4b838ac",
   "metadata": {},
   "outputs": [
    {
     "data": {
      "text/html": [
       "<div>\n",
       "<style scoped>\n",
       "    .dataframe tbody tr th:only-of-type {\n",
       "        vertical-align: middle;\n",
       "    }\n",
       "\n",
       "    .dataframe tbody tr th {\n",
       "        vertical-align: top;\n",
       "    }\n",
       "\n",
       "    .dataframe thead th {\n",
       "        text-align: right;\n",
       "    }\n",
       "</style>\n",
       "<table border=\"1\" class=\"dataframe\">\n",
       "  <thead>\n",
       "    <tr style=\"text-align: right;\">\n",
       "      <th></th>\n",
       "      <th>index</th>\n",
       "      <th>sku</th>\n",
       "      <th>cargotype</th>\n",
       "      <th>description</th>\n",
       "    </tr>\n",
       "  </thead>\n",
       "  <tbody>\n",
       "    <tr>\n",
       "      <th>0</th>\n",
       "      <td>0</td>\n",
       "      <td>af49bf330e2cf16e44f0be1bdfe337bd</td>\n",
       "      <td>290.0</td>\n",
       "      <td>Склад МГТ (малогабаритный товар)</td>\n",
       "    </tr>\n",
       "    <tr>\n",
       "      <th>1</th>\n",
       "      <td>2</td>\n",
       "      <td>ef468fa349bb8f058aa5dcd76bda60b2</td>\n",
       "      <td>290.0</td>\n",
       "      <td>Склад МГТ (малогабаритный товар)</td>\n",
       "    </tr>\n",
       "    <tr>\n",
       "      <th>2</th>\n",
       "      <td>3</td>\n",
       "      <td>d714bc5c946ec01d9b09714524805e5c</td>\n",
       "      <td>290.0</td>\n",
       "      <td>Склад МГТ (малогабаритный товар)</td>\n",
       "    </tr>\n",
       "    <tr>\n",
       "      <th>3</th>\n",
       "      <td>4</td>\n",
       "      <td>eb0e661f3ed57ef7ca16418bf50e363e</td>\n",
       "      <td>290.0</td>\n",
       "      <td>Склад МГТ (малогабаритный товар)</td>\n",
       "    </tr>\n",
       "    <tr>\n",
       "      <th>4</th>\n",
       "      <td>6</td>\n",
       "      <td>706513014b99aa52bd13b2a59a97d354</td>\n",
       "      <td>290.0</td>\n",
       "      <td>Склад МГТ (малогабаритный товар)</td>\n",
       "    </tr>\n",
       "  </tbody>\n",
       "</table>\n",
       "</div>"
      ],
      "text/plain": [
       "   index                               sku  cargotype  \\\n",
       "0      0  af49bf330e2cf16e44f0be1bdfe337bd      290.0   \n",
       "1      2  ef468fa349bb8f058aa5dcd76bda60b2      290.0   \n",
       "2      3  d714bc5c946ec01d9b09714524805e5c      290.0   \n",
       "3      4  eb0e661f3ed57ef7ca16418bf50e363e      290.0   \n",
       "4      6  706513014b99aa52bd13b2a59a97d354      290.0   \n",
       "\n",
       "                        description  \n",
       "0  Склад МГТ (малогабаритный товар)  \n",
       "1  Склад МГТ (малогабаритный товар)  \n",
       "2  Склад МГТ (малогабаритный товар)  \n",
       "3  Склад МГТ (малогабаритный товар)  \n",
       "4  Склад МГТ (малогабаритный товар)  "
      ]
     },
     "execution_count": 11,
     "metadata": {},
     "output_type": "execute_result"
    }
   ],
   "source": [
    "sku_and_cargotype.head()"
   ]
  },
  {
   "cell_type": "code",
   "execution_count": 28,
   "id": "039ba80b",
   "metadata": {},
   "outputs": [
    {
     "data": {
      "text/plain": [
       "array(['2023-04-11', 'БАДы', 'Нельзя в Экспресс', 'Нельзя на ФФЦ и СЦ',\n",
       "       'Потребует обязательной маркировки в ближайшем будущем',\n",
       "       'Склад КГТ (крупногабаритный товар)',\n",
       "       'Склад МГТ (малогабаритный товар)',\n",
       "       'Склад СГТ (среднегабаритный товар)', 'Терморежим 13-22',\n",
       "       'Требует обязательной маркировки', 'агрохимикаты',\n",
       "       'аксессуары, часы и украшения', 'аптека', 'большой аксессуар',\n",
       "       'бытовая техника', 'бытовая химия', 'в ассортименте',\n",
       "       'ветеринарная аптека',\n",
       "       'возможно вскрытие заводской упаковки покупателем',\n",
       "       'возрастное ограничение на получение товара', 'впитывает запах',\n",
       "       'готовое блюда', 'детские игрушки и игры', 'жидкость',\n",
       "       'интим товар', 'керамика/стекло/камень/фарфор', 'консервы',\n",
       "       'корма для животных', 'косметика и парфюмерия', 'мебель',\n",
       "       'медикаменты', 'меркурий', 'мнется', 'многоместный товар',\n",
       "       'не определен', 'не требует упаковки', 'нельзя примерить',\n",
       "       'обувь взрослая', 'обувь детская', 'одежда верхняя',\n",
       "       'одежда детская', 'одежда прочая', 'одежда с плечиками',\n",
       "       'одежда, обувь, аксессуары', 'опасный', 'опасный Авиа',\n",
       "       'охлажденные', 'пахучий', 'пачкает', 'пачкается', 'пестициды',\n",
       "       'полуфабрикат', 'продукты питания', 'ручки письменные', 'семена',\n",
       "       'средства личной гигиены', 'строительные материалы', 'сухие',\n",
       "       'сыпучее', 'сырье', 'техника и электроника',\n",
       "       'товары для авто и мототехники', 'товары для животных',\n",
       "       'товары для красоты', 'товары для спорта и отдыха',\n",
       "       'требует доставки с термо режимом 0+',\n",
       "       'тяжеловесный и крупногабаритный',\n",
       "       'тяжеловесный и крупногабаритный 20кг',\n",
       "       'тяжеловесный и крупногабаритный больше паллеты',\n",
       "       'упаковка в пленку', 'фреш', 'химикаты', 'хрупкое', 'цена высокая',\n",
       "       'цена низкая', 'цена средняя', 'ценное', 'цифровой товар',\n",
       "       'электроника'], dtype=object)"
      ]
     },
     "execution_count": 28,
     "metadata": {},
     "output_type": "execute_result"
    }
   ],
   "source": [
    "np.sort(sku_and_cargotype['description'].unique())"
   ]
  },
  {
   "cell_type": "markdown",
   "id": "1a835c8e",
   "metadata": {},
   "source": [
    "Еще решила посмотреть карготипы с указанием на упаковку.\n",
    "Вроде вот это можно выделить:\n",
    "'возрастное ограничение на получение товара'\n",
    "'интим товар'\n",
    "'керамика/стекло/камень/фарфор'\n",
    "'не требует упаковки' - проверила в данных, иногда упаковывают, но мы можем у таких товаров поменять таргет на NONPACK, как минимум у заказов с 1 товаром\n",
    "'хрупкое'\n",
    "'упаковка в пленку' - проверила в данных, не всегда стрейч пленка, но мы можем у таких товаров поменять таргет на STRETCH, как минимум у заказов с 1 товаром\n",
    "'цифровой товар' -   проверила в данных, упаковывают\n",
    "'многоместный товар' - проверила в данных, в таблице занимет одну коробку\n",
    "\n"
   ]
  },
  {
   "cell_type": "code",
   "execution_count": 13,
   "id": "891e52bb",
   "metadata": {},
   "outputs": [],
   "source": [
    "necessary_description = ['возрастное ограничение на получение товара',\n",
    "'интим товар',\n",
    "'керамика/стекло/камень/фарфор',\n",
    "'не требует упаковки',\n",
    "'хрупкое',\n",
    "'упаковка в пленку',\n",
    " 'цифровой товар',\n",
    "'многоместный товар']"
   ]
  },
  {
   "cell_type": "code",
   "execution_count": 14,
   "id": "b1ce000b",
   "metadata": {},
   "outputs": [
    {
     "data": {
      "text/html": [
       "<div>\n",
       "<style scoped>\n",
       "    .dataframe tbody tr th:only-of-type {\n",
       "        vertical-align: middle;\n",
       "    }\n",
       "\n",
       "    .dataframe tbody tr th {\n",
       "        vertical-align: top;\n",
       "    }\n",
       "\n",
       "    .dataframe thead th {\n",
       "        text-align: right;\n",
       "    }\n",
       "</style>\n",
       "<table border=\"1\" class=\"dataframe\">\n",
       "  <thead>\n",
       "    <tr style=\"text-align: right;\">\n",
       "      <th></th>\n",
       "      <th>cargotype</th>\n",
       "      <th>description</th>\n",
       "    </tr>\n",
       "  </thead>\n",
       "  <tbody>\n",
       "    <tr>\n",
       "      <th>5</th>\n",
       "      <td>910.0</td>\n",
       "      <td>интим товар</td>\n",
       "    </tr>\n",
       "    <tr>\n",
       "      <th>29</th>\n",
       "      <td>310.0</td>\n",
       "      <td>хрупкое</td>\n",
       "    </tr>\n",
       "    <tr>\n",
       "      <th>44</th>\n",
       "      <td>20.0</td>\n",
       "      <td>возрастное ограничение на получение товара</td>\n",
       "    </tr>\n",
       "    <tr>\n",
       "      <th>55</th>\n",
       "      <td>315.0</td>\n",
       "      <td>керамика/стекло/камень/фарфор</td>\n",
       "    </tr>\n",
       "    <tr>\n",
       "      <th>62</th>\n",
       "      <td>340.0</td>\n",
       "      <td>не требует упаковки</td>\n",
       "    </tr>\n",
       "    <tr>\n",
       "      <th>63</th>\n",
       "      <td>303.0</td>\n",
       "      <td>многоместный товар</td>\n",
       "    </tr>\n",
       "    <tr>\n",
       "      <th>72</th>\n",
       "      <td>210.0</td>\n",
       "      <td>цифровой товар</td>\n",
       "    </tr>\n",
       "    <tr>\n",
       "      <th>97</th>\n",
       "      <td>360.0</td>\n",
       "      <td>упаковка в пленку</td>\n",
       "    </tr>\n",
       "  </tbody>\n",
       "</table>\n",
       "</div>"
      ],
      "text/plain": [
       "    cargotype                                 description\n",
       "5       910.0                                 интим товар\n",
       "29      310.0                                     хрупкое\n",
       "44       20.0  возрастное ограничение на получение товара\n",
       "55      315.0               керамика/стекло/камень/фарфор\n",
       "62      340.0                         не требует упаковки\n",
       "63      303.0                          многоместный товар\n",
       "72      210.0                              цифровой товар\n",
       "97      360.0                           упаковка в пленку"
      ]
     },
     "execution_count": 14,
     "metadata": {},
     "output_type": "execute_result"
    }
   ],
   "source": [
    "cargotype_info.query('description in @necessary_description')"
   ]
  },
  {
   "cell_type": "code",
   "execution_count": 24,
   "id": "2eda8f67",
   "metadata": {},
   "outputs": [
    {
     "data": {
      "text/plain": [
       "113821    6287a74b664fd8ad4ed5c541b399a82b\n",
       "113822    eb0e661f3ed57ef7ca16418bf50e363e\n",
       "113823    22ebe748e358c7edde42bad4a7ce430a\n",
       "113824    cfaca9e7f2bfa618af10f812a3dfef3e\n",
       "113825    ef7bf24039a47423e252abc269943e2f\n",
       "                        ...               \n",
       "118395    a8656f05ccad0664a871fccca09cc57a\n",
       "118396    8ad2a108b75abaf57f56f889d590547c\n",
       "118397    d4e1eda343a6625aca9ab0b999182daa\n",
       "118398    1a9495fe5a50c0cd19de3b12bf1a9f5c\n",
       "118399    9c079b2f9decb5d2b5d38952b5b26cc4\n",
       "Name: sku, Length: 4579, dtype: object"
      ]
     },
     "execution_count": 24,
     "metadata": {},
     "output_type": "execute_result"
    }
   ],
   "source": [
    "sku_340 = sku_and_cargotype.query('cargotype == 360')['sku']\n",
    "sku_340"
   ]
  },
  {
   "cell_type": "code",
   "execution_count": 25,
   "id": "a359c232",
   "metadata": {},
   "outputs": [
    {
     "data": {
      "text/plain": [
       "14        MYD\n",
       "17        YMF\n",
       "21        YMG\n",
       "22        YMC\n",
       "29        YME\n",
       "         ... \n",
       "325610    YMG\n",
       "325611    YMG\n",
       "325612    YMG\n",
       "325613    YMG\n",
       "325614    YMG\n",
       "Name: recommended_cartontype, Length: 45373, dtype: object"
      ]
     },
     "execution_count": 25,
     "metadata": {},
     "output_type": "execute_result"
    }
   ],
   "source": [
    "data.query('sku in @sku_340')['recommended_cartontype']"
   ]
  },
  {
   "cell_type": "code",
   "execution_count": null,
   "id": "f3e4e870",
   "metadata": {},
   "outputs": [],
   "source": []
  }
 ],
 "metadata": {
  "kernelspec": {
   "display_name": "Python 3 (ipykernel)",
   "language": "python",
   "name": "python3"
  },
  "language_info": {
   "codemirror_mode": {
    "name": "ipython",
    "version": 3
   },
   "file_extension": ".py",
   "mimetype": "text/x-python",
   "name": "python",
   "nbconvert_exporter": "python",
   "pygments_lexer": "ipython3",
   "version": "3.9.13"
  },
  "toc": {
   "base_numbering": 1,
   "nav_menu": {},
   "number_sections": true,
   "sideBar": true,
   "skip_h1_title": false,
   "title_cell": "Table of Contents",
   "title_sidebar": "Contents",
   "toc_cell": false,
   "toc_position": {},
   "toc_section_display": true,
   "toc_window_display": false
  },
  "varInspector": {
   "cols": {
    "lenName": 16,
    "lenType": 16,
    "lenVar": 40
   },
   "kernels_config": {
    "python": {
     "delete_cmd_postfix": "",
     "delete_cmd_prefix": "del ",
     "library": "var_list.py",
     "varRefreshCmd": "print(var_dic_list())"
    },
    "r": {
     "delete_cmd_postfix": ") ",
     "delete_cmd_prefix": "rm(",
     "library": "var_list.r",
     "varRefreshCmd": "cat(var_dic_list()) "
    }
   },
   "types_to_exclude": [
    "module",
    "function",
    "builtin_function_or_method",
    "instance",
    "_Feature"
   ],
   "window_display": false
  }
 },
 "nbformat": 4,
 "nbformat_minor": 5
}
